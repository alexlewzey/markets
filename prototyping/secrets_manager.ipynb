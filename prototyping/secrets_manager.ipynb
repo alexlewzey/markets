{
 "cells": [
  {
   "cell_type": "code",
   "execution_count": null,
   "metadata": {},
   "outputs": [],
   "source": [
    "import boto3\n",
    "from botocore.exceptions import ClientError\n",
    "import json\n",
    "import os\n",
    "from dotenv import load_dotenv\n",
    "\n",
    "\n",
    "def get_secrets(secret_id: str) -> dict:\n",
    "    try:\n",
    "        session = boto3.session.Session()\n",
    "        client = session.client(service_name=\"secretsmanager\")\n",
    "        result = client.get_secret_value(SecretId=secret_id)\n",
    "        secrets = json.loads(result[\"SecretString\"])\n",
    "        return secrets\n",
    "    except Exception as e:\n",
    "        print(f\"Exception raised: {e}\")\n",
    "        return None\n",
    "\n",
    "\n",
    "def setup_environment_variables():\n",
    "    secret_id = \"gmail\"\n",
    "    secrets = get_secrets(secret_id=secret_id)\n",
    "    if secrets:\n",
    "        print(\"Reading secrets from aws secrets manager\")\n",
    "        for k, v in secrets.items():\n",
    "            os.environ[k] = v\n",
    "    else:\n",
    "        print(\"Reading secrets from local .env\")\n",
    "        load_dotenv()"
   ]
  },
  {
   "cell_type": "code",
   "execution_count": null,
   "metadata": {},
   "outputs": [],
   "source": []
  }
 ],
 "metadata": {
  "kernelspec": {
   "display_name": "base",
   "language": "python",
   "name": "python3"
  },
  "language_info": {
   "codemirror_mode": {
    "name": "ipython",
    "version": 3
   },
   "file_extension": ".py",
   "mimetype": "text/x-python",
   "name": "python",
   "nbconvert_exporter": "python",
   "pygments_lexer": "ipython3",
   "version": "3.10.9"
  }
 },
 "nbformat": 4,
 "nbformat_minor": 2
}
