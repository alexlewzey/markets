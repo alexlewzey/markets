{
 "cells": [
  {
   "cell_type": "code",
   "execution_count": null,
   "metadata": {},
   "outputs": [],
   "source": [
    "import boto3\n",
    "import pytest\n",
    "from botocore.exceptions import ClientError, NoCredentialsError, PartialCredentialsError"
   ]
  },
  {
   "cell_type": "code",
   "execution_count": null,
   "metadata": {},
   "outputs": [],
   "source": [
    "def test_aws_credentials():\n",
    "    try:\n",
    "        boto3.client(\"lambda\").list_functions()\n",
    "    except NoCredentialsError as e:\n",
    "        pytest.fail(f\"AWS credentials missing: {e}\")\n",
    "    except PartialCredentialsError as e:\n",
    "        pytest.fail(f\"AWS credentials partially missing: {e}\")\n",
    "    except Exception as e:\n",
    "        pytest.fail(f\"Exception: {e}\")"
   ]
  },
  {
   "cell_type": "code",
   "execution_count": null,
   "metadata": {},
   "outputs": [],
   "source": [
    "test_aws_credentials()"
   ]
  },
  {
   "cell_type": "code",
   "execution_count": null,
   "metadata": {},
   "outputs": [],
   "source": [
    "def test_func():\n",
    "    try:\n",
    "        int(\"asldkf\")\n",
    "    except Exception as e:\n",
    "        pytest.fail(f\"error: {e}\")"
   ]
  },
  {
   "cell_type": "code",
   "execution_count": null,
   "metadata": {},
   "outputs": [],
   "source": [
    "test_func()"
   ]
  },
  {
   "cell_type": "code",
   "execution_count": null,
   "metadata": {},
   "outputs": [],
   "source": [
    "repository_name = \"market-lambda-repository\""
   ]
  },
  {
   "cell_type": "code",
   "execution_count": null,
   "metadata": {},
   "outputs": [],
   "source": [
    "ecr_client.describe_repositories(repositoryNames=[\"asdf\"])"
   ]
  },
  {
   "cell_type": "code",
   "execution_count": null,
   "metadata": {},
   "outputs": [],
   "source": [
    "def test_ecr_repository_exists():\n",
    "    ecr_client = boto3.client(\"ecr\")\n",
    "    try:\n",
    "        response = ecr_client.describe_repositories(repositoryNames=[repository_name])\n",
    "        assert response[\"repositories\"][0][\"repositoryName\"] == repository_name\n",
    "    except ecr_client.exceptions.ResourceNotFoundException as e:\n",
    "        pytest.fail(f\"ECR repository does not exist: {e}\")\n",
    "    except Exception as e:\n",
    "        pytest.fail(f\"ECR repository exception: {e}\")"
   ]
  },
  {
   "cell_type": "code",
   "execution_count": null,
   "metadata": {},
   "outputs": [],
   "source": [
    "test_ecr_repository_exists()"
   ]
  },
  {
   "cell_type": "code",
   "execution_count": null,
   "metadata": {},
   "outputs": [],
   "source": [
    "funciton_name = \"market-lambda\""
   ]
  },
  {
   "cell_type": "code",
   "execution_count": null,
   "metadata": {},
   "outputs": [],
   "source": [
    "lambda_client.list_functions()[\"Functions\"][0][\"FunctionName\"]"
   ]
  },
  {
   "cell_type": "code",
   "execution_count": null,
   "metadata": {},
   "outputs": [],
   "source": [
    "def test_lambda_function_exists():\n",
    "    lambda_client = boto3.client(\"lambda\")\n",
    "    try:\n",
    "        res = lambda_client.get_function(FunctionName=funciton_name)\n",
    "        assert res[\"Configuration\"][\"FunctionName\"] == funciton_name\n",
    "    except lambda_client.exceptions.ResourceNotFoundException as e:\n",
    "        pytest.fail(f\"lambda function does not exist: {e}\")\n",
    "    except Exception as e:\n",
    "        pytest.fail(f\"lambda function exception: {e}\")"
   ]
  },
  {
   "cell_type": "code",
   "execution_count": null,
   "metadata": {},
   "outputs": [],
   "source": [
    "test_lambda_function_exists()"
   ]
  },
  {
   "cell_type": "code",
   "execution_count": null,
   "metadata": {},
   "outputs": [],
   "source": [
    "schedule_name = \"daily-lambda-trigger\"\n",
    "\n",
    "\n",
    "def test_schedule_exists():\n",
    "    scheduler_client = boto3.client(\"scheduler\")\n",
    "    try:\n",
    "        res = scheduler_client.get_schedule(Name=schedule_name)\n",
    "        assert res[\"Name\"] == schedule_name\n",
    "    except scheduler_client.exceptions.ResourceNotFoundException as e:\n",
    "        pytest.fail(f\"schedule does not exist: {e}\")\n",
    "    except Exception as e:\n",
    "        pytest.fail(f\"schedule exception: {e}\")"
   ]
  },
  {
   "cell_type": "code",
   "execution_count": null,
   "metadata": {},
   "outputs": [],
   "source": [
    "test_schedule_exists()"
   ]
  },
  {
   "cell_type": "code",
   "execution_count": null,
   "metadata": {},
   "outputs": [],
   "source": [
    "funciton_name = \"market-lambda\"\n",
    "\n",
    "\n",
    "def test_lambda_permission_exists():\n",
    "    try:\n",
    "        lambda_client = boto3.client(\"lambda\")\n",
    "        policy = lambda_client.get_policy(FunctionName=funciton_name)[\"Policy\"]\n",
    "        assert \"scheduler.amazonaws.com\" in policy\n",
    "    except lambda_client.exceptions.ResourceNotFoundException:\n",
    "        pytest.fail(\n",
    "            f\"Lambda function does not have correct permissions for EventBridge schedule\"\n",
    "        )\n",
    "    except Exception as e:\n",
    "        pytest.fail(f\"lambda permission exception: {e}\")"
   ]
  },
  {
   "cell_type": "code",
   "execution_count": null,
   "metadata": {},
   "outputs": [],
   "source": [
    "r = test_lambda_permission_exists()"
   ]
  },
  {
   "cell_type": "code",
   "execution_count": null,
   "metadata": {},
   "outputs": [],
   "source": [
    "import json\n",
    "from pprint import pprint\n",
    "\n",
    "pprint(json.loads(r[\"Policy\"]))"
   ]
  },
  {
   "cell_type": "code",
   "execution_count": null,
   "metadata": {},
   "outputs": [],
   "source": [
    "test_lambda_permission_exists()"
   ]
  }
 ],
 "metadata": {
  "kernelspec": {
   "display_name": "base",
   "language": "python",
   "name": "python3"
  },
  "language_info": {
   "codemirror_mode": {
    "name": "ipython",
    "version": 3
   },
   "file_extension": ".py",
   "mimetype": "text/x-python",
   "name": "python",
   "nbconvert_exporter": "python",
   "pygments_lexer": "ipython3",
   "version": "3.10.9"
  }
 },
 "nbformat": 4,
 "nbformat_minor": 2
}
