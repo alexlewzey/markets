{
 "cells": [
  {
   "cell_type": "code",
   "execution_count": null,
   "metadata": {},
   "outputs": [],
   "source": [
    "import pandas as pd\n",
    "from pathlib import Path\n",
    "from datetime import datetime, date\n",
    "\n",
    "# dir_tmp = Path(\"../tmp\")\n",
    "# now = int(datetime.now().timestamp())\n",
    "# start = int(now - (60 * 60 * 24 * 365 * 15))\n",
    "# url = f\"https://query1.finance.yahoo.com/v7/finance/download/BTC-USD?period1={start}&period2={now}&interval=1d&events=history&includeAdjustedClose=true\"\n",
    "# df = pd.read_csv(url)\n",
    "# df.to_csv(dir_tmp / f\"BTC-USD_{date.today()}.csv\", index=False)\n",
    "# df.dtypes\n",
    "df = pd.read_csv(Path(\"../data\") / f\"BTC-USD_2024-05-26.csv\")\n",
    "(df.dtypes == df.dtypes).all()"
   ]
  },
  {
   "cell_type": "code",
   "execution_count": null,
   "metadata": {},
   "outputs": [],
   "source": [
    "columns = df.columns.tolist()\n",
    "columns"
   ]
  },
  {
   "cell_type": "code",
   "execution_count": null,
   "metadata": {},
   "outputs": [],
   "source": [
    "{k: str(v) for k, v in df.dtypes.to_dict().items()}"
   ]
  },
  {
   "cell_type": "code",
   "execution_count": null,
   "metadata": {},
   "outputs": [],
   "source": [
    "assert df.columns.tolist() == df.columns.tolist()\n",
    "schema = {\n",
    "    \"Date\": \"object\",\n",
    "    \"Open\": \"float64\",\n",
    "    \"High\": \"float64\",\n",
    "    \"Low\": \"float64\",\n",
    "    \"Close\": \"float64\",\n",
    "    \"Adj Close\": \"float64\",\n",
    "    \"Volume\": \"int64\",\n",
    "}\n",
    "for column, dtype in schema.items():\n",
    "    assert df[column].dtype == dtype\n",
    "assert not df.empty"
   ]
  },
  {
   "cell_type": "code",
   "execution_count": null,
   "metadata": {},
   "outputs": [],
   "source": [
    "for column in columns[1:]:\n",
    "    assert (df[column] > 0).all()"
   ]
  },
  {
   "cell_type": "code",
   "execution_count": null,
   "metadata": {},
   "outputs": [],
   "source": [
    "(df.isnull().mean() == 0).all()"
   ]
  },
  {
   "cell_type": "code",
   "execution_count": null,
   "metadata": {},
   "outputs": [],
   "source": [
    "from datetime import date"
   ]
  },
  {
   "cell_type": "code",
   "execution_count": null,
   "metadata": {},
   "outputs": [],
   "source": [
    "try:\n",
    "    df[\"Date\"].apply(date.fromisoformat)\n",
    "except ValueError as e:\n",
    "    pytest.fail(f\"Invalid dates detected: {e}\")"
   ]
  },
  {
   "cell_type": "code",
   "execution_count": null,
   "metadata": {},
   "outputs": [],
   "source": [
    "df.min()"
   ]
  }
 ],
 "metadata": {
  "kernelspec": {
   "display_name": "base",
   "language": "python",
   "name": "python3"
  },
  "language_info": {
   "codemirror_mode": {
    "name": "ipython",
    "version": 3
   },
   "file_extension": ".py",
   "mimetype": "text/x-python",
   "name": "python",
   "nbconvert_exporter": "python",
   "pygments_lexer": "ipython3",
   "version": "3.10.9"
  }
 },
 "nbformat": 4,
 "nbformat_minor": 2
}
