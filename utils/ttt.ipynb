{
 "cells": [
  {
   "cell_type": "code",
   "execution_count": null,
   "metadata": {},
   "outputs": [],
   "source": [
    "import shutil\n",
    "from pathlib import Path\n",
    "\n",
    "import pathspec\n",
    "\n",
    "# root = Path(__file__).parent.parent.resolve()\n",
    "root = Path(\"..\").resolve()\n",
    "paths = [p for p in root.rglob(\"*\")]\n",
    "with (root / \".gitignore\").open() as f:\n",
    "    patterns = [\n",
    "        s for s in f.read().splitlines() if (s != \"\") and (not s.startswith(\"#\"))\n",
    "    ]\n",
    "spec = pathspec.PathSpec.from_lines(\"gitwildmatch\", patterns)\n",
    "relative_paths = [p.relative_to(root).as_posix() for p in paths]\n",
    "to_ignore = [root / Path(p) for p in spec.match_files(relative_paths)]\n",
    "for path in to_ignore:\n",
    "    try:\n",
    "        if path.is_dir():\n",
    "            shutil.rmtree(path)\n",
    "            print(f\"Deleted directory: {path}\")\n",
    "        else:\n",
    "            path.unlink()\n",
    "            print(f\"Deleted file: {path}\")\n",
    "    except Exception as e:\n",
    "        print(f\"Failed to delete {path}: {e}\")"
   ]
  }
 ],
 "metadata": {
  "kernelspec": {
   "display_name": "base",
   "language": "python",
   "name": "python3"
  },
  "language_info": {
   "codemirror_mode": {
    "name": "ipython",
    "version": 3
   },
   "file_extension": ".py",
   "mimetype": "text/x-python",
   "name": "python",
   "nbconvert_exporter": "python",
   "pygments_lexer": "ipython3",
   "version": "3.10.9"
  }
 },
 "nbformat": 4,
 "nbformat_minor": 2
}
